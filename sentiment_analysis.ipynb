# 1. IMPORT LIBRARIES
import pandas as pd
import numpy as np
import re
import string
import matplotlib.pyplot as plt
import seaborn as sns

from sklearn.model_selection import train_test_split
from sklearn.feature_extraction.text import TfidfVectorizer
from sklearn.linear_model import LogisticRegression
from sklearn.metrics import classification_report, confusion_matrix

import nltk
from nltk.corpus import stopwords
from nltk.stem import PorterStemmer

nltk.download('stopwords')

# 2. LOAD DATA
# Replace with your file
df = pd.read_csv("data.csv")  # Ensure it has 'text' and 'label' columns
print(df.head())

# 3. PREPROCESS TEXT
stop_words = set(stopwords.words("english"))
stemmer = PorterStemmer()

def preprocess(text):
    text = text.lower()
    text = re.sub(r"http\S+|www.\S+", "", text)
    text = re.sub(r"@\w+|#\w+", "", text)
    text = re.sub(r"[^a-zA-Z\s]", "", text)
    text = text.strip()
    text = " ".join([stemmer.stem(word) for word in text.split() if word not in stop_words])
    return text

df['cleaned'] = df['text'].apply(preprocess)

# 4. VECTORIZE TEXT
tfidf = TfidfVectorizer(max_features=5000)
X = tfidf.fit_transform(df['cleaned'])
y = df['label']  # Ensure this column has values like 'positive', 'neutral', 'negative'

# 5. SPLIT DATA
X_train, X_test, y_train, y_test = train_test_split(X, y, test_size=0.2, random_state=42)

# 6. TRAIN MODEL
model = LogisticRegression()
model.fit(X_train, y_train)

# 7. PREDICT & EVALUATE
y_pred = model.predict(X_test)

print("\nClassification Report:\n")
print(classification_report(y_test, y_pred))

# 8. CONFUSION MATRIX + CHARTS
labels = sorted(y.unique())
cm = confusion_matrix(y_test, y_pred, labels=labels)

# Plot classification metrics
report = classification_report(y_test, y_pred, output_dict=True)
report_df = pd.DataFrame(report).transpose().iloc[:-3, :3]

fig, axes = plt.subplots(1, 2, figsize=(16, 6))

# Metrics Bar Chart
report_df.plot(kind='bar', ax=axes[0], colormap='Set2')
axes[0].set_title('Classification Report Metrics')
axes[0].set_ylabel('Score')
axes[0].set_ylim(0, 1.1)
axes[0].legend(loc='lower right')
axes[0].grid(axis='y')

# Confusion Matrix Heatmap
sns.heatmap(cm, annot=True, fmt='d', cmap='Blues',
            xticklabels=labels, yticklabels=labels, ax=axes[1])
axes[1].set_title('Confusion Matrix')
axes[1].set_xlabel('Predicted')
axes[1].set_ylabel('Actual')

plt.tight_layout()
plt.show()

# 9. SAMPLE PREDICTION
sample = ["I love this!", "This was the worst", "It was okay"]
sample_cleaned = [preprocess(text) for text in sample]
sample_vec = tfidf.transform(sample_cleaned)
sample_pred = model.predict(sample_vec)

for s, p in zip(sample, sample_pred):
    print(f"Text: {s} -> Sentiment: {p}")
